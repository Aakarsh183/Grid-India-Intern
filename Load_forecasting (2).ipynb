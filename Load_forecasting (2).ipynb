{
  "nbformat": 4,
  "nbformat_minor": 0,
  "metadata": {
    "colab": {
      "provenance": []
    },
    "kernelspec": {
      "name": "python3",
      "display_name": "Python 3"
    },
    "language_info": {
      "name": "python"
    }
  },
  "cells": [
    {
      "cell_type": "code",
      "execution_count": 5,
      "metadata": {
        "id": "YyAnBJcv6ebh"
      },
      "outputs": [],
      "source": [
        "import tensorflow as tf\n",
        "from sklearn.preprocessing import MinMaxScaler\n",
        "import numpy as np\n",
        "import pandas as pd\n",
        "import matplotlib.pyplot as plt\n",
        "from tensorflow.keras.models import Sequential\n",
        "from tensorflow.keras.layers import LSTM, Dropout, Dense\n",
        "from sklearn.model_selection import train_test_split\n",
        "from sklearn.metrics import mean_absolute_error, r2_score\n"
      ]
    },
    {
      "cell_type": "code",
      "source": [
        "isro_file = 'output.xlsx'\n",
        "df_combined = pd.read_excel(isro_file)\n",
        "df_combined['Date and Time'] = pd.to_datetime(df_combined['Date and Time'])\n",
        "df_combined.set_index('Date and Time', inplace=True)\n"
      ],
      "metadata": {
        "id": "lVivOou8LUuW"
      },
      "execution_count": 6,
      "outputs": []
    },
    {
      "cell_type": "code",
      "source": [
        "# Filter the dataset for one specific station (e.g., \"APTFL\")\n",
        "Station = 'ABC_REN_RJ01'\n",
        "features = [f'GHI_{Station}', f'Temperature_{Station}']\n",
        "target = f'MW_{Station}'\n",
        "df_combined = df_combined[features + [target]]\n",
        "station_data = df_combined.copy()\n",
        "station_data = station_data.reset_index()\n",
        "#Ensure the datetime format is consistent\n",
        "#station_data['Date and Time'] = pd.to_datetime(station_data['Date and Time'], format=\"%d-%m-%Y %H:%M\", dayfirst=True)\n",
        "station_data.columns = ['DateTime', 'GHI', 'Temperature', 'Generation']\n",
        "# Extract the hour as a feature\n",
        "station_data['Hour'] = station_data['DateTime'].dt.hour\n",
        "station_data['GHI_Lag1']    = station_data['GHI'].shift(1)\n",
        "station_data['GHI_Rolling'] = station_data['GHI'].rolling(window=3, min_periods=1).mean()\n",
        "station_data = station_data[(station_data['Hour'] >= 6) & (station_data['Hour'] <= 19)]\n",
        "len(station_data)\n"
      ],
      "metadata": {
        "colab": {
          "base_uri": "https://localhost:8080/"
        },
        "id": "7cc0iyhs7j3H",
        "outputId": "0f946eb2-e9d4-434c-bd44-a10924d52362"
      },
      "execution_count": 7,
      "outputs": [
        {
          "output_type": "execute_result",
          "data": {
            "text/plain": [
              "20384"
            ]
          },
          "metadata": {},
          "execution_count": 7
        }
      ]
    },
    {
      "cell_type": "code",
      "source": [
        "def handle_missing_data(station_data):\n",
        "    station_data.interpolate(method='linear', inplace=True)\n",
        "    station_data.fillna(method='bfill', inplace=True)  # Backfill if interpolation leaves NaN\n",
        "    station_data.fillna(method='ffill', inplace=True)  # Forward fill if necessary\n",
        "    return station_data\n",
        "station_data = handle_missing_data(station_data)"
      ],
      "metadata": {
        "colab": {
          "base_uri": "https://localhost:8080/"
        },
        "id": "aj71awDdfaw5",
        "outputId": "e0fca586-f557-4c45-8412-cb06da942859"
      },
      "execution_count": 8,
      "outputs": [
        {
          "output_type": "stream",
          "name": "stderr",
          "text": [
            "/tmp/ipython-input-8-746033763.py:3: FutureWarning: DataFrame.fillna with 'method' is deprecated and will raise in a future version. Use obj.ffill() or obj.bfill() instead.\n",
            "  station_data.fillna(method='bfill', inplace=True)  # Backfill if interpolation leaves NaN\n",
            "/tmp/ipython-input-8-746033763.py:4: FutureWarning: DataFrame.fillna with 'method' is deprecated and will raise in a future version. Use obj.ffill() or obj.bfill() instead.\n",
            "  station_data.fillna(method='ffill', inplace=True)  # Forward fill if necessary\n"
          ]
        }
      ]
    },
    {
      "cell_type": "code",
      "source": [
        "# Prepare features (GHI, Temperature, Hour) and target (Generation)\n",
        "X_isro = station_data[['GHI', 'Temperature', 'Hour','GHI_Lag1','GHI_Rolling']].values\n",
        "y_isro = station_data['Generation'].values\n",
        "len(y_isro)"
      ],
      "metadata": {
        "colab": {
          "base_uri": "https://localhost:8080/"
        },
        "id": "E66EZEhIY-uX",
        "outputId": "6b7b1ebb-6a10-435f-90cc-320884c1cc4e"
      },
      "execution_count": 9,
      "outputs": [
        {
          "output_type": "execute_result",
          "data": {
            "text/plain": [
              "20384"
            ]
          },
          "metadata": {},
          "execution_count": 9
        }
      ]
    },
    {
      "cell_type": "code",
      "source": [
        "scaler_X_isro = MinMaxScaler()\n",
        "scaler_y_isro = MinMaxScaler()\n",
        "\n",
        "X_scaled_isro = scaler_X_isro.fit_transform(X_isro)\n",
        "y_scaled_isro = scaler_y_isro.fit_transform(y_isro.reshape(-1, 1))\n",
        "\n",
        "# Get indices\n",
        "train_idx, test_idx = train_test_split(np.arange(len(X_scaled_isro)), test_size=0.2, random_state=42)\n",
        "\n",
        "# Use indices to split the data\n",
        "X_train_isro, X_test_isro = X_scaled_isro[train_idx], X_scaled_isro[test_idx]\n",
        "y_train_isro, y_test_isro = y_scaled_isro[train_idx], y_scaled_isro[test_idx]\n",
        "\n",
        "# Reshape input data to be 3D [samples, timesteps, features] for LSTM\n",
        "X_train_reshaped_isro = X_train_isro.reshape((X_train_isro.shape[0], X_train_isro.shape[1], 1))\n",
        "X_test_reshaped_isro = X_test_isro.reshape((X_test_isro.shape[0], X_test_isro.shape[1], 1))"
      ],
      "metadata": {
        "id": "z6Uw78d4Zwr8"
      },
      "execution_count": 10,
      "outputs": []
    },
    {
      "cell_type": "code",
      "source": [
        "# Define the LSTM model for ISRO data\n",
        "model_isro = Sequential()\n",
        "\n",
        "model_isro.add(LSTM(units=100, return_sequences=True, input_shape=(X_train_reshaped_isro.shape[1], 1)))\n",
        "model_isro.add(Dropout(0.3))\n",
        "model_isro.add(LSTM(units=50, return_sequences=True))\n",
        "model_isro.add(Dropout(0.3))\n",
        "model_isro.add(LSTM(units=50, return_sequences=True))\n",
        "model_isro.add(Dropout(0.3))\n",
        "model_isro.add(LSTM(units=50, return_sequences=False))\n",
        "model_isro.add(Dropout(0.3))\n",
        "\n",
        "model_isro.add(Dense(units=1, activation='relu'))\n",
        "\n",
        "# Compile the ISRO model\n",
        "model_isro.compile(optimizer='adam', loss='mean_squared_error')\n",
        "\n",
        "# Train the ISRO model with early stopping\n",
        "early_stopping_isro = tf.keras.callbacks.EarlyStopping(monitor='val_loss', patience=10, restore_best_weights=True)\n",
        "\n",
        "history_isro = model_isro.fit(X_train_reshaped_isro, y_train_isro, epochs=100, batch_size=32, validation_split=0.2,\n",
        "                              callbacks=[early_stopping_isro], verbose=1)\n"
      ],
      "metadata": {
        "colab": {
          "base_uri": "https://localhost:8080/"
        },
        "id": "Z33C2SK77tnz",
        "outputId": "8117df68-cbe0-43d8-b20c-6fce77d4853c"
      },
      "execution_count": 11,
      "outputs": [
        {
          "output_type": "stream",
          "name": "stderr",
          "text": [
            "/usr/local/lib/python3.11/dist-packages/keras/src/layers/rnn/rnn.py:200: UserWarning: Do not pass an `input_shape`/`input_dim` argument to a layer. When using Sequential models, prefer using an `Input(shape)` object as the first layer in the model instead.\n",
            "  super().__init__(**kwargs)\n"
          ]
        },
        {
          "output_type": "stream",
          "name": "stdout",
          "text": [
            "Epoch 1/100\n",
            "\u001b[1m408/408\u001b[0m \u001b[32m━━━━━━━━━━━━━━━━━━━━\u001b[0m\u001b[37m\u001b[0m \u001b[1m15s\u001b[0m 17ms/step - loss: 0.0906 - val_loss: 0.0372\n",
            "Epoch 2/100\n",
            "\u001b[1m408/408\u001b[0m \u001b[32m━━━━━━━━━━━━━━━━━━━━\u001b[0m\u001b[37m\u001b[0m \u001b[1m10s\u001b[0m 16ms/step - loss: 0.0386 - val_loss: 0.0350\n",
            "Epoch 3/100\n",
            "\u001b[1m408/408\u001b[0m \u001b[32m━━━━━━━━━━━━━━━━━━━━\u001b[0m\u001b[37m\u001b[0m \u001b[1m11s\u001b[0m 17ms/step - loss: 0.0376 - val_loss: 0.0314\n",
            "Epoch 4/100\n",
            "\u001b[1m408/408\u001b[0m \u001b[32m━━━━━━━━━━━━━━━━━━━━\u001b[0m\u001b[37m\u001b[0m \u001b[1m8s\u001b[0m 18ms/step - loss: 0.0358 - val_loss: 0.0320\n",
            "Epoch 5/100\n",
            "\u001b[1m408/408\u001b[0m \u001b[32m━━━━━━━━━━━━━━━━━━━━\u001b[0m\u001b[37m\u001b[0m \u001b[1m9s\u001b[0m 16ms/step - loss: 0.0364 - val_loss: 0.0308\n",
            "Epoch 6/100\n",
            "\u001b[1m408/408\u001b[0m \u001b[32m━━━━━━━━━━━━━━━━━━━━\u001b[0m\u001b[37m\u001b[0m \u001b[1m10s\u001b[0m 16ms/step - loss: 0.0335 - val_loss: 0.0306\n",
            "Epoch 7/100\n",
            "\u001b[1m408/408\u001b[0m \u001b[32m━━━━━━━━━━━━━━━━━━━━\u001b[0m\u001b[37m\u001b[0m \u001b[1m10s\u001b[0m 16ms/step - loss: 0.0332 - val_loss: 0.0313\n",
            "Epoch 8/100\n",
            "\u001b[1m408/408\u001b[0m \u001b[32m━━━━━━━━━━━━━━━━━━━━\u001b[0m\u001b[37m\u001b[0m \u001b[1m11s\u001b[0m 18ms/step - loss: 0.0326 - val_loss: 0.0315\n",
            "Epoch 9/100\n",
            "\u001b[1m408/408\u001b[0m \u001b[32m━━━━━━━━━━━━━━━━━━━━\u001b[0m\u001b[37m\u001b[0m \u001b[1m7s\u001b[0m 18ms/step - loss: 0.0332 - val_loss: 0.0307\n",
            "Epoch 10/100\n",
            "\u001b[1m408/408\u001b[0m \u001b[32m━━━━━━━━━━━━━━━━━━━━\u001b[0m\u001b[37m\u001b[0m \u001b[1m9s\u001b[0m 16ms/step - loss: 0.0335 - val_loss: 0.0310\n",
            "Epoch 11/100\n",
            "\u001b[1m408/408\u001b[0m \u001b[32m━━━━━━━━━━━━━━━━━━━━\u001b[0m\u001b[37m\u001b[0m \u001b[1m10s\u001b[0m 16ms/step - loss: 0.0319 - val_loss: 0.0303\n",
            "Epoch 12/100\n",
            "\u001b[1m408/408\u001b[0m \u001b[32m━━━━━━━━━━━━━━━━━━━━\u001b[0m\u001b[37m\u001b[0m \u001b[1m8s\u001b[0m 19ms/step - loss: 0.0316 - val_loss: 0.0316\n",
            "Epoch 13/100\n",
            "\u001b[1m408/408\u001b[0m \u001b[32m━━━━━━━━━━━━━━━━━━━━\u001b[0m\u001b[37m\u001b[0m \u001b[1m7s\u001b[0m 16ms/step - loss: 0.0329 - val_loss: 0.0300\n",
            "Epoch 14/100\n",
            "\u001b[1m408/408\u001b[0m \u001b[32m━━━━━━━━━━━━━━━━━━━━\u001b[0m\u001b[37m\u001b[0m \u001b[1m8s\u001b[0m 19ms/step - loss: 0.0322 - val_loss: 0.0306\n",
            "Epoch 15/100\n",
            "\u001b[1m408/408\u001b[0m \u001b[32m━━━━━━━━━━━━━━━━━━━━\u001b[0m\u001b[37m\u001b[0m \u001b[1m7s\u001b[0m 16ms/step - loss: 0.0316 - val_loss: 0.0305\n",
            "Epoch 16/100\n",
            "\u001b[1m408/408\u001b[0m \u001b[32m━━━━━━━━━━━━━━━━━━━━\u001b[0m\u001b[37m\u001b[0m \u001b[1m10s\u001b[0m 16ms/step - loss: 0.0332 - val_loss: 0.0305\n",
            "Epoch 17/100\n",
            "\u001b[1m408/408\u001b[0m \u001b[32m━━━━━━━━━━━━━━━━━━━━\u001b[0m\u001b[37m\u001b[0m \u001b[1m10s\u001b[0m 16ms/step - loss: 0.0321 - val_loss: 0.0305\n",
            "Epoch 18/100\n",
            "\u001b[1m408/408\u001b[0m \u001b[32m━━━━━━━━━━━━━━━━━━━━\u001b[0m\u001b[37m\u001b[0m \u001b[1m8s\u001b[0m 19ms/step - loss: 0.0312 - val_loss: 0.0312\n",
            "Epoch 19/100\n",
            "\u001b[1m408/408\u001b[0m \u001b[32m━━━━━━━━━━━━━━━━━━━━\u001b[0m\u001b[37m\u001b[0m \u001b[1m10s\u001b[0m 18ms/step - loss: 0.0308 - val_loss: 0.0309\n",
            "Epoch 20/100\n",
            "\u001b[1m408/408\u001b[0m \u001b[32m━━━━━━━━━━━━━━━━━━━━\u001b[0m\u001b[37m\u001b[0m \u001b[1m9s\u001b[0m 16ms/step - loss: 0.0316 - val_loss: 0.0310\n",
            "Epoch 21/100\n",
            "\u001b[1m408/408\u001b[0m \u001b[32m━━━━━━━━━━━━━━━━━━━━\u001b[0m\u001b[37m\u001b[0m \u001b[1m8s\u001b[0m 18ms/step - loss: 0.0305 - val_loss: 0.0316\n",
            "Epoch 22/100\n",
            "\u001b[1m408/408\u001b[0m \u001b[32m━━━━━━━━━━━━━━━━━━━━\u001b[0m\u001b[37m\u001b[0m \u001b[1m6s\u001b[0m 16ms/step - loss: 0.0295 - val_loss: 0.0299\n",
            "Epoch 23/100\n",
            "\u001b[1m408/408\u001b[0m \u001b[32m━━━━━━━━━━━━━━━━━━━━\u001b[0m\u001b[37m\u001b[0m \u001b[1m8s\u001b[0m 19ms/step - loss: 0.0314 - val_loss: 0.0301\n",
            "Epoch 24/100\n",
            "\u001b[1m408/408\u001b[0m \u001b[32m━━━━━━━━━━━━━━━━━━━━\u001b[0m\u001b[37m\u001b[0m \u001b[1m8s\u001b[0m 19ms/step - loss: 0.0310 - val_loss: 0.0309\n",
            "Epoch 25/100\n",
            "\u001b[1m408/408\u001b[0m \u001b[32m━━━━━━━━━━━━━━━━━━━━\u001b[0m\u001b[37m\u001b[0m \u001b[1m9s\u001b[0m 16ms/step - loss: 0.0301 - val_loss: 0.0297\n",
            "Epoch 26/100\n",
            "\u001b[1m408/408\u001b[0m \u001b[32m━━━━━━━━━━━━━━━━━━━━\u001b[0m\u001b[37m\u001b[0m \u001b[1m8s\u001b[0m 19ms/step - loss: 0.0293 - val_loss: 0.0304\n",
            "Epoch 27/100\n",
            "\u001b[1m408/408\u001b[0m \u001b[32m━━━━━━━━━━━━━━━━━━━━\u001b[0m\u001b[37m\u001b[0m \u001b[1m10s\u001b[0m 19ms/step - loss: 0.0318 - val_loss: 0.0304\n",
            "Epoch 28/100\n",
            "\u001b[1m408/408\u001b[0m \u001b[32m━━━━━━━━━━━━━━━━━━━━\u001b[0m\u001b[37m\u001b[0m \u001b[1m9s\u001b[0m 16ms/step - loss: 0.0306 - val_loss: 0.0301\n",
            "Epoch 29/100\n",
            "\u001b[1m408/408\u001b[0m \u001b[32m━━━━━━━━━━━━━━━━━━━━\u001b[0m\u001b[37m\u001b[0m \u001b[1m10s\u001b[0m 16ms/step - loss: 0.0308 - val_loss: 0.0293\n",
            "Epoch 30/100\n",
            "\u001b[1m408/408\u001b[0m \u001b[32m━━━━━━━━━━━━━━━━━━━━\u001b[0m\u001b[37m\u001b[0m \u001b[1m8s\u001b[0m 19ms/step - loss: 0.0303 - val_loss: 0.0293\n",
            "Epoch 31/100\n",
            "\u001b[1m408/408\u001b[0m \u001b[32m━━━━━━━━━━━━━━━━━━━━\u001b[0m\u001b[37m\u001b[0m \u001b[1m6s\u001b[0m 16ms/step - loss: 0.0305 - val_loss: 0.0292\n",
            "Epoch 32/100\n",
            "\u001b[1m408/408\u001b[0m \u001b[32m━━━━━━━━━━━━━━━━━━━━\u001b[0m\u001b[37m\u001b[0m \u001b[1m8s\u001b[0m 19ms/step - loss: 0.0296 - val_loss: 0.0294\n",
            "Epoch 33/100\n",
            "\u001b[1m408/408\u001b[0m \u001b[32m━━━━━━━━━━━━━━━━━━━━\u001b[0m\u001b[37m\u001b[0m \u001b[1m10s\u001b[0m 19ms/step - loss: 0.0290 - val_loss: 0.0292\n",
            "Epoch 34/100\n",
            "\u001b[1m408/408\u001b[0m \u001b[32m━━━━━━━━━━━━━━━━━━━━\u001b[0m\u001b[37m\u001b[0m \u001b[1m10s\u001b[0m 19ms/step - loss: 0.0296 - val_loss: 0.0281\n",
            "Epoch 35/100\n",
            "\u001b[1m408/408\u001b[0m \u001b[32m━━━━━━━━━━━━━━━━━━━━\u001b[0m\u001b[37m\u001b[0m \u001b[1m7s\u001b[0m 16ms/step - loss: 0.0279 - val_loss: 0.0284\n",
            "Epoch 36/100\n",
            "\u001b[1m408/408\u001b[0m \u001b[32m━━━━━━━━━━━━━━━━━━━━\u001b[0m\u001b[37m\u001b[0m \u001b[1m8s\u001b[0m 18ms/step - loss: 0.0290 - val_loss: 0.0275\n",
            "Epoch 37/100\n",
            "\u001b[1m408/408\u001b[0m \u001b[32m━━━━━━━━━━━━━━━━━━━━\u001b[0m\u001b[37m\u001b[0m \u001b[1m9s\u001b[0m 16ms/step - loss: 0.0268 - val_loss: 0.0269\n",
            "Epoch 38/100\n",
            "\u001b[1m408/408\u001b[0m \u001b[32m━━━━━━━━━━━━━━━━━━━━\u001b[0m\u001b[37m\u001b[0m \u001b[1m10s\u001b[0m 16ms/step - loss: 0.0289 - val_loss: 0.0275\n",
            "Epoch 39/100\n",
            "\u001b[1m408/408\u001b[0m \u001b[32m━━━━━━━━━━━━━━━━━━━━\u001b[0m\u001b[37m\u001b[0m \u001b[1m8s\u001b[0m 19ms/step - loss: 0.0277 - val_loss: 0.0266\n",
            "Epoch 40/100\n",
            "\u001b[1m408/408\u001b[0m \u001b[32m━━━━━━━━━━━━━━━━━━━━\u001b[0m\u001b[37m\u001b[0m \u001b[1m10s\u001b[0m 19ms/step - loss: 0.0276 - val_loss: 0.0260\n",
            "Epoch 41/100\n",
            "\u001b[1m408/408\u001b[0m \u001b[32m━━━━━━━━━━━━━━━━━━━━\u001b[0m\u001b[37m\u001b[0m \u001b[1m7s\u001b[0m 16ms/step - loss: 0.0254 - val_loss: 0.0264\n",
            "Epoch 42/100\n",
            "\u001b[1m408/408\u001b[0m \u001b[32m━━━━━━━━━━━━━━━━━━━━\u001b[0m\u001b[37m\u001b[0m \u001b[1m8s\u001b[0m 19ms/step - loss: 0.0261 - val_loss: 0.0255\n",
            "Epoch 43/100\n",
            "\u001b[1m408/408\u001b[0m \u001b[32m━━━━━━━━━━━━━━━━━━━━\u001b[0m\u001b[37m\u001b[0m \u001b[1m10s\u001b[0m 19ms/step - loss: 0.0266 - val_loss: 0.0255\n",
            "Epoch 44/100\n",
            "\u001b[1m408/408\u001b[0m \u001b[32m━━━━━━━━━━━━━━━━━━━━\u001b[0m\u001b[37m\u001b[0m \u001b[1m9s\u001b[0m 16ms/step - loss: 0.0273 - val_loss: 0.0253\n",
            "Epoch 45/100\n",
            "\u001b[1m408/408\u001b[0m \u001b[32m━━━━━━━━━━━━━━━━━━━━\u001b[0m\u001b[37m\u001b[0m \u001b[1m10s\u001b[0m 16ms/step - loss: 0.0265 - val_loss: 0.0257\n",
            "Epoch 46/100\n",
            "\u001b[1m408/408\u001b[0m \u001b[32m━━━━━━━━━━━━━━━━━━━━\u001b[0m\u001b[37m\u001b[0m \u001b[1m8s\u001b[0m 19ms/step - loss: 0.0259 - val_loss: 0.0254\n",
            "Epoch 47/100\n",
            "\u001b[1m408/408\u001b[0m \u001b[32m━━━━━━━━━━━━━━━━━━━━\u001b[0m\u001b[37m\u001b[0m \u001b[1m10s\u001b[0m 19ms/step - loss: 0.0260 - val_loss: 0.0262\n",
            "Epoch 48/100\n",
            "\u001b[1m408/408\u001b[0m \u001b[32m━━━━━━━━━━━━━━━━━━━━\u001b[0m\u001b[37m\u001b[0m \u001b[1m7s\u001b[0m 16ms/step - loss: 0.0259 - val_loss: 0.0255\n",
            "Epoch 49/100\n",
            "\u001b[1m408/408\u001b[0m \u001b[32m━━━━━━━━━━━━━━━━━━━━\u001b[0m\u001b[37m\u001b[0m \u001b[1m11s\u001b[0m 18ms/step - loss: 0.0261 - val_loss: 0.0259\n",
            "Epoch 50/100\n",
            "\u001b[1m408/408\u001b[0m \u001b[32m━━━━━━━━━━━━━━━━━━━━\u001b[0m\u001b[37m\u001b[0m \u001b[1m8s\u001b[0m 20ms/step - loss: 0.0261 - val_loss: 0.0254\n",
            "Epoch 51/100\n",
            "\u001b[1m408/408\u001b[0m \u001b[32m━━━━━━━━━━━━━━━━━━━━\u001b[0m\u001b[37m\u001b[0m \u001b[1m7s\u001b[0m 16ms/step - loss: 0.0253 - val_loss: 0.0255\n",
            "Epoch 52/100\n",
            "\u001b[1m408/408\u001b[0m \u001b[32m━━━━━━━━━━━━━━━━━━━━\u001b[0m\u001b[37m\u001b[0m \u001b[1m8s\u001b[0m 19ms/step - loss: 0.0256 - val_loss: 0.0251\n",
            "Epoch 53/100\n",
            "\u001b[1m408/408\u001b[0m \u001b[32m━━━━━━━━━━━━━━━━━━━━\u001b[0m\u001b[37m\u001b[0m \u001b[1m10s\u001b[0m 18ms/step - loss: 0.0252 - val_loss: 0.0246\n",
            "Epoch 54/100\n",
            "\u001b[1m408/408\u001b[0m \u001b[32m━━━━━━━━━━━━━━━━━━━━\u001b[0m\u001b[37m\u001b[0m \u001b[1m7s\u001b[0m 16ms/step - loss: 0.0250 - val_loss: 0.0246\n",
            "Epoch 55/100\n",
            "\u001b[1m408/408\u001b[0m \u001b[32m━━━━━━━━━━━━━━━━━━━━\u001b[0m\u001b[37m\u001b[0m \u001b[1m11s\u001b[0m 19ms/step - loss: 0.0261 - val_loss: 0.0243\n",
            "Epoch 56/100\n",
            "\u001b[1m408/408\u001b[0m \u001b[32m━━━━━━━━━━━━━━━━━━━━\u001b[0m\u001b[37m\u001b[0m \u001b[1m7s\u001b[0m 18ms/step - loss: 0.0264 - val_loss: 0.0252\n",
            "Epoch 57/100\n",
            "\u001b[1m408/408\u001b[0m \u001b[32m━━━━━━━━━━━━━━━━━━━━\u001b[0m\u001b[37m\u001b[0m \u001b[1m7s\u001b[0m 16ms/step - loss: 0.0256 - val_loss: 0.0244\n",
            "Epoch 58/100\n",
            "\u001b[1m408/408\u001b[0m \u001b[32m━━━━━━━━━━━━━━━━━━━━\u001b[0m\u001b[37m\u001b[0m \u001b[1m11s\u001b[0m 19ms/step - loss: 0.0248 - val_loss: 0.0247\n",
            "Epoch 59/100\n",
            "\u001b[1m408/408\u001b[0m \u001b[32m━━━━━━━━━━━━━━━━━━━━\u001b[0m\u001b[37m\u001b[0m \u001b[1m8s\u001b[0m 19ms/step - loss: 0.0243 - val_loss: 0.0244\n",
            "Epoch 60/100\n",
            "\u001b[1m408/408\u001b[0m \u001b[32m━━━━━━━━━━━━━━━━━━━━\u001b[0m\u001b[37m\u001b[0m \u001b[1m9s\u001b[0m 16ms/step - loss: 0.0259 - val_loss: 0.0249\n",
            "Epoch 61/100\n",
            "\u001b[1m408/408\u001b[0m \u001b[32m━━━━━━━━━━━━━━━━━━━━\u001b[0m\u001b[37m\u001b[0m \u001b[1m10s\u001b[0m 16ms/step - loss: 0.0261 - val_loss: 0.0272\n",
            "Epoch 62/100\n",
            "\u001b[1m408/408\u001b[0m \u001b[32m━━━━━━━━━━━━━━━━━━━━\u001b[0m\u001b[37m\u001b[0m \u001b[1m11s\u001b[0m 17ms/step - loss: 0.0263 - val_loss: 0.0239\n",
            "Epoch 63/100\n",
            "\u001b[1m408/408\u001b[0m \u001b[32m━━━━━━━━━━━━━━━━━━━━\u001b[0m\u001b[37m\u001b[0m \u001b[1m8s\u001b[0m 19ms/step - loss: 0.0259 - val_loss: 0.0245\n",
            "Epoch 64/100\n",
            "\u001b[1m408/408\u001b[0m \u001b[32m━━━━━━━━━━━━━━━━━━━━\u001b[0m\u001b[37m\u001b[0m \u001b[1m7s\u001b[0m 16ms/step - loss: 0.0245 - val_loss: 0.0239\n",
            "Epoch 65/100\n",
            "\u001b[1m408/408\u001b[0m \u001b[32m━━━━━━━━━━━━━━━━━━━━\u001b[0m\u001b[37m\u001b[0m \u001b[1m11s\u001b[0m 17ms/step - loss: 0.0250 - val_loss: 0.0241\n",
            "Epoch 66/100\n",
            "\u001b[1m408/408\u001b[0m \u001b[32m━━━━━━━━━━━━━━━━━━━━\u001b[0m\u001b[37m\u001b[0m \u001b[1m8s\u001b[0m 19ms/step - loss: 0.0243 - val_loss: 0.0251\n",
            "Epoch 67/100\n",
            "\u001b[1m408/408\u001b[0m \u001b[32m━━━━━━━━━━━━━━━━━━━━\u001b[0m\u001b[37m\u001b[0m \u001b[1m9s\u001b[0m 16ms/step - loss: 0.0254 - val_loss: 0.0240\n",
            "Epoch 68/100\n",
            "\u001b[1m408/408\u001b[0m \u001b[32m━━━━━━━━━━━━━━━━━━━━\u001b[0m\u001b[37m\u001b[0m \u001b[1m8s\u001b[0m 19ms/step - loss: 0.0243 - val_loss: 0.0261\n",
            "Epoch 69/100\n",
            "\u001b[1m408/408\u001b[0m \u001b[32m━━━━━━━━━━━━━━━━━━━━\u001b[0m\u001b[37m\u001b[0m \u001b[1m7s\u001b[0m 18ms/step - loss: 0.0257 - val_loss: 0.0248\n",
            "Epoch 70/100\n",
            "\u001b[1m408/408\u001b[0m \u001b[32m━━━━━━━━━━━━━━━━━━━━\u001b[0m\u001b[37m\u001b[0m \u001b[1m7s\u001b[0m 17ms/step - loss: 0.0253 - val_loss: 0.0239\n",
            "Epoch 71/100\n",
            "\u001b[1m408/408\u001b[0m \u001b[32m━━━━━━━━━━━━━━━━━━━━\u001b[0m\u001b[37m\u001b[0m \u001b[1m11s\u001b[0m 19ms/step - loss: 0.0248 - val_loss: 0.0244\n",
            "Epoch 72/100\n",
            "\u001b[1m408/408\u001b[0m \u001b[32m━━━━━━━━━━━━━━━━━━━━\u001b[0m\u001b[37m\u001b[0m \u001b[1m10s\u001b[0m 19ms/step - loss: 0.0240 - val_loss: 0.0237\n",
            "Epoch 73/100\n",
            "\u001b[1m408/408\u001b[0m \u001b[32m━━━━━━━━━━━━━━━━━━━━\u001b[0m\u001b[37m\u001b[0m \u001b[1m10s\u001b[0m 18ms/step - loss: 0.0243 - val_loss: 0.0240\n",
            "Epoch 74/100\n",
            "\u001b[1m408/408\u001b[0m \u001b[32m━━━━━━━━━━━━━━━━━━━━\u001b[0m\u001b[37m\u001b[0m \u001b[1m7s\u001b[0m 18ms/step - loss: 0.0251 - val_loss: 0.0236\n",
            "Epoch 75/100\n",
            "\u001b[1m408/408\u001b[0m \u001b[32m━━━━━━━━━━━━━━━━━━━━\u001b[0m\u001b[37m\u001b[0m \u001b[1m8s\u001b[0m 19ms/step - loss: 0.0254 - val_loss: 0.0247\n",
            "Epoch 76/100\n",
            "\u001b[1m408/408\u001b[0m \u001b[32m━━━━━━━━━━━━━━━━━━━━\u001b[0m\u001b[37m\u001b[0m \u001b[1m9s\u001b[0m 16ms/step - loss: 0.0238 - val_loss: 0.0236\n",
            "Epoch 77/100\n",
            "\u001b[1m408/408\u001b[0m \u001b[32m━━━━━━━━━━━━━━━━━━━━\u001b[0m\u001b[37m\u001b[0m \u001b[1m8s\u001b[0m 19ms/step - loss: 0.0252 - val_loss: 0.0241\n",
            "Epoch 78/100\n",
            "\u001b[1m408/408\u001b[0m \u001b[32m━━━━━━━━━━━━━━━━━━━━\u001b[0m\u001b[37m\u001b[0m \u001b[1m10s\u001b[0m 19ms/step - loss: 0.0251 - val_loss: 0.0244\n",
            "Epoch 79/100\n",
            "\u001b[1m408/408\u001b[0m \u001b[32m━━━━━━━━━━━━━━━━━━━━\u001b[0m\u001b[37m\u001b[0m \u001b[1m10s\u001b[0m 18ms/step - loss: 0.0246 - val_loss: 0.0245\n",
            "Epoch 80/100\n",
            "\u001b[1m408/408\u001b[0m \u001b[32m━━━━━━━━━━━━━━━━━━━━\u001b[0m\u001b[37m\u001b[0m \u001b[1m9s\u001b[0m 16ms/step - loss: 0.0238 - val_loss: 0.0239\n",
            "Epoch 81/100\n",
            "\u001b[1m408/408\u001b[0m \u001b[32m━━━━━━━━━━━━━━━━━━━━\u001b[0m\u001b[37m\u001b[0m \u001b[1m10s\u001b[0m 16ms/step - loss: 0.0239 - val_loss: 0.0240\n",
            "Epoch 82/100\n",
            "\u001b[1m408/408\u001b[0m \u001b[32m━━━━━━━━━━━━━━━━━━━━\u001b[0m\u001b[37m\u001b[0m \u001b[1m8s\u001b[0m 19ms/step - loss: 0.0246 - val_loss: 0.0253\n",
            "Epoch 83/100\n",
            "\u001b[1m408/408\u001b[0m \u001b[32m━━━━━━━━━━━━━━━━━━━━\u001b[0m\u001b[37m\u001b[0m \u001b[1m7s\u001b[0m 16ms/step - loss: 0.0254 - val_loss: 0.0241\n",
            "Epoch 84/100\n",
            "\u001b[1m408/408\u001b[0m \u001b[32m━━━━━━━━━━━━━━━━━━━━\u001b[0m\u001b[37m\u001b[0m \u001b[1m8s\u001b[0m 19ms/step - loss: 0.0248 - val_loss: 0.0235\n",
            "Epoch 85/100\n",
            "\u001b[1m408/408\u001b[0m \u001b[32m━━━━━━━━━━━━━━━━━━━━\u001b[0m\u001b[37m\u001b[0m \u001b[1m10s\u001b[0m 19ms/step - loss: 0.0242 - val_loss: 0.0233\n",
            "Epoch 86/100\n",
            "\u001b[1m408/408\u001b[0m \u001b[32m━━━━━━━━━━━━━━━━━━━━\u001b[0m\u001b[37m\u001b[0m \u001b[1m7s\u001b[0m 16ms/step - loss: 0.0250 - val_loss: 0.0239\n",
            "Epoch 87/100\n",
            "\u001b[1m408/408\u001b[0m \u001b[32m━━━━━━━━━━━━━━━━━━━━\u001b[0m\u001b[37m\u001b[0m \u001b[1m11s\u001b[0m 17ms/step - loss: 0.0236 - val_loss: 0.0233\n",
            "Epoch 88/100\n",
            "\u001b[1m408/408\u001b[0m \u001b[32m━━━━━━━━━━━━━━━━━━━━\u001b[0m\u001b[37m\u001b[0m \u001b[1m8s\u001b[0m 19ms/step - loss: 0.0241 - val_loss: 0.0230\n",
            "Epoch 89/100\n",
            "\u001b[1m408/408\u001b[0m \u001b[32m━━━━━━━━━━━━━━━━━━━━\u001b[0m\u001b[37m\u001b[0m \u001b[1m7s\u001b[0m 16ms/step - loss: 0.0253 - val_loss: 0.0241\n",
            "Epoch 90/100\n",
            "\u001b[1m408/408\u001b[0m \u001b[32m━━━━━━━━━━━━━━━━━━━━\u001b[0m\u001b[37m\u001b[0m \u001b[1m10s\u001b[0m 17ms/step - loss: 0.0238 - val_loss: 0.0236\n",
            "Epoch 91/100\n",
            "\u001b[1m408/408\u001b[0m \u001b[32m━━━━━━━━━━━━━━━━━━━━\u001b[0m\u001b[37m\u001b[0m \u001b[1m8s\u001b[0m 19ms/step - loss: 0.0230 - val_loss: 0.0238\n",
            "Epoch 92/100\n",
            "\u001b[1m408/408\u001b[0m \u001b[32m━━━━━━━━━━━━━━━━━━━━\u001b[0m\u001b[37m\u001b[0m \u001b[1m9s\u001b[0m 16ms/step - loss: 0.0244 - val_loss: 0.0234\n",
            "Epoch 93/100\n",
            "\u001b[1m408/408\u001b[0m \u001b[32m━━━━━━━━━━━━━━━━━━━━\u001b[0m\u001b[37m\u001b[0m \u001b[1m8s\u001b[0m 19ms/step - loss: 0.0239 - val_loss: 0.0243\n",
            "Epoch 94/100\n",
            "\u001b[1m408/408\u001b[0m \u001b[32m━━━━━━━━━━━━━━━━━━━━\u001b[0m\u001b[37m\u001b[0m \u001b[1m10s\u001b[0m 19ms/step - loss: 0.0234 - val_loss: 0.0236\n",
            "Epoch 95/100\n",
            "\u001b[1m408/408\u001b[0m \u001b[32m━━━━━━━━━━━━━━━━━━━━\u001b[0m\u001b[37m\u001b[0m \u001b[1m7s\u001b[0m 16ms/step - loss: 0.0244 - val_loss: 0.0247\n",
            "Epoch 96/100\n",
            "\u001b[1m408/408\u001b[0m \u001b[32m━━━━━━━━━━━━━━━━━━━━\u001b[0m\u001b[37m\u001b[0m \u001b[1m10s\u001b[0m 16ms/step - loss: 0.0243 - val_loss: 0.0231\n",
            "Epoch 97/100\n",
            "\u001b[1m408/408\u001b[0m \u001b[32m━━━━━━━━━━━━━━━━━━━━\u001b[0m\u001b[37m\u001b[0m \u001b[1m10s\u001b[0m 17ms/step - loss: 0.0237 - val_loss: 0.0235\n",
            "Epoch 98/100\n",
            "\u001b[1m408/408\u001b[0m \u001b[32m━━━━━━━━━━━━━━━━━━━━\u001b[0m\u001b[37m\u001b[0m \u001b[1m11s\u001b[0m 19ms/step - loss: 0.0233 - val_loss: 0.0231\n"
          ]
        }
      ]
    },
    {
      "cell_type": "code",
      "source": [
        "# Make predictions on the test set\n",
        "y_pred_scaled_isro = model_isro.predict(X_test_reshaped_isro)\n",
        "\n",
        "# Inverse transform the predictions and the actual values\n",
        "y_pred_isro = scaler_y_isro.inverse_transform(y_pred_scaled_isro)\n",
        "y_test_actual_isro = scaler_y_isro.inverse_transform(y_test_isro)\n",
        "station_data.sort_values(by='DateTime',ascending = True)\n",
        "# Extract corresponding datetime from the test set using test_idx\n",
        "test_dates = station_data['DateTime'].iloc[test_idx]\n",
        "\n",
        "# Calculate Evaluation Metrics (MAE and R²)\n",
        "mae_isro = mean_absolute_error(y_test_actual_isro, y_pred_isro)\n",
        "r2_isro = r2_score(y_test_actual_isro, y_pred_isro)\n",
        "\n",
        "print(f\"Mean Absolute Error (MAE): {mae_isro:.4f}\")\n",
        "print(f\"R² Score: {r2_isro:.4f}\")\n",
        "\n",
        "# Print the first 10 actual vs predicted values with timestamps\n",
        "print(\"Time: Actual vs Predicted values:\")\n",
        "for i in range(30):\n",
        "    print(f\"Time: {test_dates.iloc[i]}, Actual: {y_test_actual_isro[i][0]:.3f}, Predicted: {y_pred_isro[i][0]:.6f}\")\n"
      ],
      "metadata": {
        "colab": {
          "base_uri": "https://localhost:8080/"
        },
        "id": "qcEPF1e-PEwb",
        "outputId": "22fade21-750a-468a-f9be-bd0e4d625421"
      },
      "execution_count": 12,
      "outputs": [
        {
          "output_type": "stream",
          "name": "stdout",
          "text": [
            "\u001b[1m128/128\u001b[0m \u001b[32m━━━━━━━━━━━━━━━━━━━━\u001b[0m\u001b[37m\u001b[0m \u001b[1m2s\u001b[0m 9ms/step\n",
            "Mean Absolute Error (MAE): 29.4554\n",
            "R² Score: 0.8142\n",
            "Time: Actual vs Predicted values:\n",
            "Time: 2025-03-08 17:30:00, Actual: 155.264, Predicted: 68.572281\n",
            "Time: 2024-06-24 11:00:00, Actual: 263.680, Predicted: 276.972656\n",
            "Time: 2024-08-18 07:45:00, Actual: 82.176, Predicted: 67.629402\n",
            "Time: 2024-11-13 12:00:00, Actual: 302.336, Predicted: 248.177597\n",
            "Time: 2024-11-13 12:15:00, Actual: 302.592, Predicted: 242.204727\n",
            "Time: 2024-06-12 08:45:00, Actual: 182.656, Predicted: 172.777191\n",
            "Time: 2025-03-11 15:15:00, Actual: 132.096, Predicted: 214.690231\n",
            "Time: 2024-10-25 18:45:00, Actual: 3.669, Predicted: 12.095469\n",
            "Time: 2024-04-22 07:30:00, Actual: 71.680, Predicted: 50.474113\n",
            "Time: 2025-01-04 14:30:00, Actual: 252.416, Predicted: 212.006454\n",
            "Time: 2024-05-27 07:45:00, Actual: 102.656, Predicted: 87.760918\n",
            "Time: 2024-10-13 12:15:00, Actual: 161.408, Predicted: 280.203583\n",
            "Time: 2024-06-27 08:00:00, Actual: 110.080, Predicted: 65.674713\n",
            "Time: 2024-06-16 06:30:00, Actual: 19.328, Predicted: 27.506832\n",
            "Time: 2025-01-27 09:15:00, Actual: 184.960, Predicted: 125.947594\n",
            "Time: 2024-04-21 12:45:00, Actual: 162.304, Predicted: 267.197235\n",
            "Time: 2024-05-27 07:30:00, Actual: 81.152, Predicted: 78.429741\n",
            "Time: 2024-07-14 14:45:00, Actual: 60.160, Predicted: 260.163727\n",
            "Time: 2024-07-25 11:45:00, Actual: 304.896, Predicted: 278.422516\n",
            "Time: 2024-09-04 08:30:00, Actual: 26.112, Predicted: 57.953094\n",
            "Time: 2024-06-28 19:30:00, Actual: 3.456, Predicted: 0.128000\n",
            "Time: 2024-07-11 12:45:00, Actual: 293.760, Predicted: 282.307800\n",
            "Time: 2024-05-22 08:00:00, Actual: 123.520, Predicted: 117.178833\n",
            "Time: 2024-05-29 14:30:00, Actual: 279.680, Predicted: 263.525330\n",
            "Time: 2024-05-24 06:00:00, Actual: 5.248, Predicted: 0.128000\n",
            "Time: 2025-02-06 14:00:00, Actual: 305.792, Predicted: 268.625641\n",
            "Time: 2025-03-23 12:30:00, Actual: 305.280, Predicted: 286.015228\n",
            "Time: 2025-01-05 07:45:00, Actual: 5.760, Predicted: 0.128000\n",
            "Time: 2025-03-30 06:30:00, Actual: 1.152, Predicted: 24.847891\n",
            "Time: 2024-05-20 15:45:00, Actual: 214.400, Predicted: 219.308121\n"
          ]
        }
      ]
    },
    {
      "cell_type": "code",
      "source": [
        "plt.figure(figsize=(10, 6))\n",
        "plt.plot(y_test_actual_isro, label='Actual')\n",
        "plt.plot(y_pred_isro, label='Predicted')\n",
        "plt.title('Actual vs Predicted Solar Generation')\n",
        "plt.xlabel('Samples')\n",
        "plt.ylabel('Solar Generation')\n",
        "plt.legend()\n",
        "plt.show()"
      ],
      "metadata": {
        "colab": {
          "base_uri": "https://localhost:8080/",
          "height": 564
        },
        "id": "RnJgvJZDhlsD",
        "outputId": "eee5f003-1122-4c68-bb99-b7448fc8926a"
      },
      "execution_count": 13,
      "outputs": [
        {
          "output_type": "display_data",
          "data": {
            "text/plain": [
              "<Figure size 1000x600 with 1 Axes>"
            ],
            "image/png": "[encoded data removed]"
          },
          "metadata": {}
        }
      ]
    },
    {
      "cell_type": "code",
      "source": [
        "# Future Prediction (Converting GMT to IST and Predicting Solar Generation)\n",
        "future_data_file = 'POSOCO_SolarForecast_SWFlux_20250715_ABC_REN_RJ01.csv'\n",
        "future_df = pd.read_csv(future_data_file)\n",
        "\n",
        "# Rename columns for simplicity\n",
        "future_df.columns = ['DateTime', 'Temperature', 'GHI']\n",
        "\n",
        "# Convert the 'DateTime' column to datetime and convert GMT to IST (GMT + 5:30)\n",
        "future_df['DateTime'] = pd.to_datetime(future_df['DateTime'])\n",
        "future_df['DateTime'] = future_df['DateTime'] + pd.Timedelta(hours=5, minutes=30)\n",
        "\n",
        "# Extract the hour from the DateTime column\n",
        "future_df['Hour'] = future_df['DateTime'].dt.hour\n",
        "future_df['GHI_Lag1'] = future_df['GHI'].shift(1)\n",
        "future_df['GHI_Rolling'] = future_df['GHI'].rolling(window=3, min_periods=1).mean()\n",
        "future_df = future_df[(future_df['Hour'] >= 6) & (future_df['Hour'] <= 19)]\n",
        "# Extract the same features: GHI, Temperature, and Hour\n",
        "X_future = future_df[['GHI', 'Temperature', 'Hour','GHI_Lag1','GHI_Rolling']].values\n",
        "\n",
        "# Normalize the future features using the same scaler used for training\n",
        "X_future_scaled = scaler_X_isro.transform(X_future)\n",
        "\n",
        "# Reshape the input for the LSTM model (3D)\n",
        "X_future_reshaped = X_future_scaled.reshape((X_future_scaled.shape[0], X_future_scaled.shape[1], 1))\n",
        "\n",
        "# Make predictions on the future data\n",
        "y_future_scaled = model_isro.predict(X_future_reshaped)\n",
        "\n",
        "# Inverse transform the predictions to get the original scale\n",
        "y_future_pred = scaler_y_isro.inverse_transform(y_future_scaled)\n",
        "\n",
        "# Combine the predictions with the corresponding timestamps\n",
        "future_predictions = pd.DataFrame({'DateTime': future_df['DateTime'], 'Predicted Generation': y_future_pred.flatten()})\n",
        "\n",
        "# Save the future predictions to a file\n",
        "future_predictions.to_csv('future_solar_generation_predictions.csv', index=False)\n",
        "\n",
        "# Save the trained model for future use\n",
        "model_isro.save('solar_generation_model.h5')\n"
      ],
      "metadata": {
        "id": "gAkb2ELD7y_X",
        "colab": {
          "base_uri": "https://localhost:8080/"
        },
        "outputId": "d214ae2d-5d87-4fdb-968e-baa2c0772345"
      },
      "execution_count": 18,
      "outputs": [
        {
          "output_type": "stream",
          "name": "stdout",
          "text": [
            "\u001b[1m6/6\u001b[0m \u001b[32m━━━━━━━━━━━━━━━━━━━━\u001b[0m\u001b[37m\u001b[0m \u001b[1m0s\u001b[0m 8ms/step \n"
          ]
        },
        {
          "output_type": "stream",
          "name": "stderr",
          "text": [
            "WARNING:absl:You are saving your model as an HDF5 file via `model.save()` or `keras.saving.save_model(model)`. This file format is considered legacy. We recommend using instead the native Keras format, e.g. `model.save('my_model.keras')` or `keras.saving.save_model(model, 'my_model.keras')`. \n"
          ]
        }
      ]
    }
  ]
}